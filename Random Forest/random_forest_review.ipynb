{
 "cells": [
  {
   "cell_type": "markdown",
   "id": "e57bb584",
   "metadata": {},
   "source": [
    "\n",
    "## Algorithm Random Forest - ансамблевый алгоритм\n",
    "#### Random Forest - это модель для решения задач регерессии и задач классификации. \n",
    "\n",
    "Достаточно гибкая модель, но сложная для интерпретации.\n",
    "Идея заключается в том, чтобы вырсатить много деревьев вместо одного дерева (мудрость толпы). \n",
    "\n",
    " #### _1) для задач КЛАССИФИКАЦИИ определяется БОЛЬШИНСТВОМ_\n",
    " #### _2) для задач РЕГРЕССИИ определяется СРЕДНИМ ЗНАЧЕНИЕМ_"
   ]
  },
  {
   "cell_type": "code",
   "execution_count": 1,
   "id": "f1dc4d7f",
   "metadata": {},
   "outputs": [],
   "source": [
    "import pandas as pd\n",
    "import numpy as np\n",
    "import seaborn as sns\n",
    "import matplotlib.pyplot as plt\n",
    "from sklearn.model_selection import train_test_split\n",
    "from sklearn.metrics import r2_score\n",
    "from sklearn.ensemble import RandomForestClassifier"
   ]
  },
  {
   "cell_type": "code",
   "execution_count": 2,
   "id": "1c53a98e",
   "metadata": {},
   "outputs": [
    {
     "data": {
      "text/plain": [
       "pandas.core.frame.DataFrame"
      ]
     },
     "execution_count": 2,
     "metadata": {},
     "output_type": "execute_result"
    }
   ],
   "source": [
    "df =pd.read_excel('../Random forest/wb_teapot.xlsx', sheet_name='Sheet1')   # данные с портала WildBerries\n",
    "type(df)"
   ]
  },
  {
   "cell_type": "code",
   "execution_count": 3,
   "id": "b3e8eace",
   "metadata": {},
   "outputs": [
    {
     "name": "stdout",
     "output_type": "stream",
     "text": [
      "<class 'pandas.core.frame.DataFrame'>\n",
      "RangeIndex: 642 entries, 0 to 641\n",
      "Data columns (total 24 columns):\n",
      " #   Column                            Non-Null Count  Dtype  \n",
      "---  ------                            --------------  -----  \n",
      " 0   id                                642 non-null    int64  \n",
      " 1   Review                            642 non-null    int64  \n",
      " 2   Star                              642 non-null    int64  \n",
      " 3   Value                             642 non-null    int64  \n",
      " 4   brandId                           642 non-null    int64  \n",
      " 5   brandName                         642 non-null    object \n",
      " 6   goodsName                         642 non-null    object \n",
      " 7   isSoldOut                         642 non-null    int64  \n",
      " 8   link                              642 non-null    object \n",
      " 9   lowQuantity                       642 non-null    int64  \n",
      " 10  ordersCount                       642 non-null    int64  \n",
      " 11  price                             642 non-null    int64  \n",
      " 12  qualityRate                       642 non-null    int64  \n",
      " 13  Вес с упаковкой (кг)              637 non-null    float64\n",
      " 14  Длина кабеля                      625 non-null    float64\n",
      " 15  Количество температурных режимов  614 non-null    object \n",
      " 16  Материал корпуса                  336 non-null    object \n",
      " 17  Модель                            637 non-null    object \n",
      " 18  Мощность устройства               634 non-null    float64\n",
      " 19  Объем чайника                     641 non-null    float64\n",
      " 20  Страна бренда                     642 non-null    object \n",
      " 21  Страна производитель              642 non-null    object \n",
      " 22  Цвет                              642 non-null    object \n",
      " 23  sale_june                         642 non-null    int64  \n",
      "dtypes: float64(4), int64(11), object(9)\n",
      "memory usage: 120.5+ KB\n"
     ]
    }
   ],
   "source": [
    "df.info()"
   ]
  },
  {
   "cell_type": "code",
   "execution_count": 4,
   "id": "6a843aad",
   "metadata": {},
   "outputs": [
    {
     "data": {
      "text/plain": [
       "Index(['id', 'Review', 'Star', 'Value', 'brandId', 'brandName', 'goodsName',\n",
       "       'isSoldOut', 'link', 'lowQuantity', 'ordersCount', 'price',\n",
       "       'qualityRate', 'Вес с упаковкой (кг)', 'Длина кабеля',\n",
       "       'Количество температурных режимов', 'Материал корпуса', 'Модель',\n",
       "       'Мощность устройства', 'Объем чайника', 'Страна бренда',\n",
       "       'Страна производитель', 'Цвет', 'sale_june'],\n",
       "      dtype='object')"
      ]
     },
     "execution_count": 4,
     "metadata": {},
     "output_type": "execute_result"
    }
   ],
   "source": [
    "df.columns"
   ]
  },
  {
   "cell_type": "code",
   "execution_count": 5,
   "id": "cb94dc7c",
   "metadata": {},
   "outputs": [
    {
     "data": {
      "image/png": "[encoded data removed]",
      "text/plain": [
       "<Figure size 1440x504 with 1 Axes>"
      ]
     },
     "metadata": {
      "needs_background": "light"
     },
     "output_type": "display_data"
    }
   ],
   "source": [
    "df['Review'].hist(bins=30, figsize=(20,7)); # распределение количества отзывов"
   ]
  },
  {
   "cell_type": "code",
   "execution_count": 6,
   "id": "cacc1592",
   "metadata": {},
   "outputs": [
    {
     "data": {
      "text/plain": [
       "id                                  642\n",
       "Review                              642\n",
       "Star                                642\n",
       "Value                               642\n",
       "brandId                             642\n",
       "brandName                           642\n",
       "goodsName                           642\n",
       "isSoldOut                           642\n",
       "link                                642\n",
       "lowQuantity                         642\n",
       "ordersCount                         642\n",
       "price                               642\n",
       "qualityRate                         642\n",
       "Вес с упаковкой (кг)                637\n",
       "Длина кабеля                        625\n",
       "Количество температурных режимов    614\n",
       "Материал корпуса                    336\n",
       "Модель                              637\n",
       "Мощность устройства                 634\n",
       "Объем чайника                       641\n",
       "Страна бренда                       642\n",
       "Страна производитель                642\n",
       "Цвет                                642\n",
       "sale_june                           642\n",
       "dtype: int64"
      ]
     },
     "execution_count": 6,
     "metadata": {},
     "output_type": "execute_result"
    }
   ],
   "source": [
    "df.count()"
   ]
  },
  {
   "cell_type": "code",
   "execution_count": 7,
   "id": "36c5bd20",
   "metadata": {},
   "outputs": [
    {
     "data": {
      "text/plain": [
       "id                                  329\n",
       "Review                              329\n",
       "Star                                329\n",
       "Value                               329\n",
       "brandId                             329\n",
       "brandName                           329\n",
       "goodsName                           329\n",
       "isSoldOut                           329\n",
       "link                                329\n",
       "lowQuantity                         329\n",
       "ordersCount                         329\n",
       "price                               329\n",
       "qualityRate                         329\n",
       "Вес с упаковкой (кг)                326\n",
       "Длина кабеля                        316\n",
       "Количество температурных режимов    316\n",
       "Материал корпуса                    165\n",
       "Модель                              327\n",
       "Мощность устройства                 323\n",
       "Объем чайника                       328\n",
       "Страна бренда                       329\n",
       "Страна производитель                329\n",
       "Цвет                                329\n",
       "sale_june                           329\n",
       "dtype: int64"
      ]
     },
     "execution_count": 7,
     "metadata": {},
     "output_type": "execute_result"
    }
   ],
   "source": [
    "df[df['Review']>10].count()"
   ]
  },
  {
   "cell_type": "code",
   "execution_count": 8,
   "id": "d388b1f7",
   "metadata": {},
   "outputs": [
    {
     "data": {
      "text/plain": [
       "329"
      ]
     },
     "execution_count": 8,
     "metadata": {},
     "output_type": "execute_result"
    }
   ],
   "source": [
    "df[df['Review']>10]['sale_june'].count()"
   ]
  },
  {
   "cell_type": "markdown",
   "id": "aa3ab165",
   "metadata": {},
   "source": [
    "### попробуем предсказать, будет ли у модели больше 10 отзывов"
   ]
  },
  {
   "cell_type": "code",
   "execution_count": 9,
   "id": "420400ef",
   "metadata": {},
   "outputs": [],
   "source": [
    "# отбор нужных столбцов\n",
    "col =['Star', 'Value', 'brandId', 'brandName', 'goodsName',\n",
    "       'isSoldOut', 'link', 'lowQuantity', 'ordersCount', 'price',\n",
    "       'qualityRate', 'Вес с упаковкой (кг)', 'Длина кабеля',\n",
    "       'Количество температурных режимов', 'Материал корпуса', 'Модель',\n",
    "       'Мощность устройства', 'Объем чайника', 'Страна бренда',\n",
    "       'Страна производитель', 'Цвет']"
   ]
  },
  {
   "cell_type": "code",
   "execution_count": 10,
   "id": "c605e414",
   "metadata": {},
   "outputs": [
    {
     "data": {
      "text/html": [
       "<div>\n",
       "<style scoped>\n",
       "    .dataframe tbody tr th:only-of-type {\n",
       "        vertical-align: middle;\n",
       "    }\n",
       "\n",
       "    .dataframe tbody tr th {\n",
       "        vertical-align: top;\n",
       "    }\n",
       "\n",
       "    .dataframe thead th {\n",
       "        text-align: right;\n",
       "    }\n",
       "</style>\n",
       "<table border=\"1\" class=\"dataframe\">\n",
       "  <thead>\n",
       "    <tr style=\"text-align: right;\">\n",
       "      <th></th>\n",
       "    </tr>\n",
       "  </thead>\n",
       "  <tbody>\n",
       "  </tbody>\n",
       "</table>\n",
       "</div>"
      ],
      "text/plain": [
       "Empty DataFrame\n",
       "Columns: []\n",
       "Index: []"
      ]
     },
     "execution_count": 10,
     "metadata": {},
     "output_type": "execute_result"
    }
   ],
   "source": [
    "X = pd.DataFrame()      # создание пустого Dataset (набора данных)\n",
    "X"
   ]
  },
  {
   "cell_type": "markdown",
   "id": "083b6820",
   "metadata": {},
   "source": [
    "### код ниже преобразует категорийные данные в переменные и заполняет пропуски наиболее вероятным значением"
   ]
  },
  {
   "cell_type": "code",
   "execution_count": 11,
   "id": "343c27be",
   "metadata": {},
   "outputs": [
    {
     "data": {
      "text/html": [
       "<div>\n",
       "<style scoped>\n",
       "    .dataframe tbody tr th:only-of-type {\n",
       "        vertical-align: middle;\n",
       "    }\n",
       "\n",
       "    .dataframe tbody tr th {\n",
       "        vertical-align: top;\n",
       "    }\n",
       "\n",
       "    .dataframe thead th {\n",
       "        text-align: right;\n",
       "    }\n",
       "</style>\n",
       "<table border=\"1\" class=\"dataframe\">\n",
       "  <thead>\n",
       "    <tr style=\"text-align: right;\">\n",
       "      <th></th>\n",
       "      <th>id</th>\n",
       "      <th>Review</th>\n",
       "      <th>Star</th>\n",
       "      <th>Value</th>\n",
       "      <th>brandId</th>\n",
       "      <th>brandName</th>\n",
       "      <th>goodsName</th>\n",
       "      <th>isSoldOut</th>\n",
       "      <th>link</th>\n",
       "      <th>lowQuantity</th>\n",
       "      <th>...</th>\n",
       "      <th>Длина кабеля</th>\n",
       "      <th>Количество температурных режимов</th>\n",
       "      <th>Материал корпуса</th>\n",
       "      <th>Модель</th>\n",
       "      <th>Мощность устройства</th>\n",
       "      <th>Объем чайника</th>\n",
       "      <th>Страна бренда</th>\n",
       "      <th>Страна производитель</th>\n",
       "      <th>Цвет</th>\n",
       "      <th>sale_june</th>\n",
       "    </tr>\n",
       "  </thead>\n",
       "  <tbody>\n",
       "    <tr>\n",
       "      <th>0</th>\n",
       "      <td>2171393</td>\n",
       "      <td>35</td>\n",
       "      <td>4</td>\n",
       "      <td>4193</td>\n",
       "      <td>16012</td>\n",
       "      <td>Philips</td>\n",
       "      <td>Чайник Avance Collection HD9340/90 со стеклянн...</td>\n",
       "      <td>0</td>\n",
       "      <td>https://www.wildberries.ru/catalog/2171393/det...</td>\n",
       "      <td>0</td>\n",
       "      <td>...</td>\n",
       "      <td>75.0</td>\n",
       "      <td>1</td>\n",
       "      <td>нержавеющая сталь; стекло</td>\n",
       "      <td>HD9340/90</td>\n",
       "      <td>2200.0</td>\n",
       "      <td>1.5</td>\n",
       "      <td>Нидерланды</td>\n",
       "      <td>Китай</td>\n",
       "      <td>прозрачный, черный</td>\n",
       "      <td>0</td>\n",
       "    </tr>\n",
       "    <tr>\n",
       "      <th>1</th>\n",
       "      <td>2290060</td>\n",
       "      <td>15</td>\n",
       "      <td>3</td>\n",
       "      <td>1999</td>\n",
       "      <td>3300</td>\n",
       "      <td>Polaris</td>\n",
       "      <td>Чайник PWK 1864CA, 1.8л. 1800Вт</td>\n",
       "      <td>0</td>\n",
       "      <td>https://www.wildberries.ru/catalog/2290060/det...</td>\n",
       "      <td>0</td>\n",
       "      <td>...</td>\n",
       "      <td>60.0</td>\n",
       "      <td>NaN</td>\n",
       "      <td>NaN</td>\n",
       "      <td>NaN</td>\n",
       "      <td>1800.0</td>\n",
       "      <td>1.8</td>\n",
       "      <td>Россия</td>\n",
       "      <td>Китай</td>\n",
       "      <td>серебристый</td>\n",
       "      <td>0</td>\n",
       "    </tr>\n",
       "    <tr>\n",
       "      <th>2</th>\n",
       "      <td>2389982</td>\n",
       "      <td>273</td>\n",
       "      <td>4</td>\n",
       "      <td>1883</td>\n",
       "      <td>16012</td>\n",
       "      <td>Philips</td>\n",
       "      <td>Чайник Daily Collection HD4646</td>\n",
       "      <td>0</td>\n",
       "      <td>https://www.wildberries.ru/catalog/2389982/det...</td>\n",
       "      <td>0</td>\n",
       "      <td>...</td>\n",
       "      <td>75.0</td>\n",
       "      <td>1</td>\n",
       "      <td>пластик</td>\n",
       "      <td>HD4646</td>\n",
       "      <td>2400.0</td>\n",
       "      <td>1.5</td>\n",
       "      <td>Нидерланды</td>\n",
       "      <td>Польша</td>\n",
       "      <td>черный</td>\n",
       "      <td>200</td>\n",
       "    </tr>\n",
       "  </tbody>\n",
       "</table>\n",
       "<p>3 rows × 24 columns</p>\n",
       "</div>"
      ],
      "text/plain": [
       "        id  Review  Star  Value  brandId brandName  \\\n",
       "0  2171393      35     4   4193    16012   Philips   \n",
       "1  2290060      15     3   1999     3300   Polaris   \n",
       "2  2389982     273     4   1883    16012   Philips   \n",
       "\n",
       "                                           goodsName  isSoldOut  \\\n",
       "0  Чайник Avance Collection HD9340/90 со стеклянн...          0   \n",
       "1                    Чайник PWK 1864CA, 1.8л. 1800Вт          0   \n",
       "2                     Чайник Daily Collection HD4646          0   \n",
       "\n",
       "                                                link  lowQuantity  ...  \\\n",
       "0  https://www.wildberries.ru/catalog/2171393/det...            0  ...   \n",
       "1  https://www.wildberries.ru/catalog/2290060/det...            0  ...   \n",
       "2  https://www.wildberries.ru/catalog/2389982/det...            0  ...   \n",
       "\n",
       "   Длина кабеля  Количество температурных режимов           Материал корпуса  \\\n",
       "0          75.0                                 1  нержавеющая сталь; стекло   \n",
       "1          60.0                               NaN                        NaN   \n",
       "2          75.0                                 1                    пластик   \n",
       "\n",
       "      Модель  Мощность устройства Объем чайника Страна бренда  \\\n",
       "0  HD9340/90               2200.0           1.5    Нидерланды   \n",
       "1        NaN               1800.0           1.8        Россия   \n",
       "2     HD4646               2400.0           1.5    Нидерланды   \n",
       "\n",
       "  Страна производитель                Цвет  sale_june  \n",
       "0                Китай  прозрачный, черный          0  \n",
       "1                Китай         серебристый          0  \n",
       "2               Польша              черный        200  \n",
       "\n",
       "[3 rows x 24 columns]"
      ]
     },
     "execution_count": 11,
     "metadata": {},
     "output_type": "execute_result"
    }
   ],
   "source": [
    "df.head(3)"
   ]
  },
  {
   "cell_type": "code",
   "execution_count": 12,
   "id": "42fe1adc",
   "metadata": {
    "scrolled": true
   },
   "outputs": [
    {
     "data": {
      "text/html": [
       "<div>\n",
       "<style scoped>\n",
       "    .dataframe tbody tr th:only-of-type {\n",
       "        vertical-align: middle;\n",
       "    }\n",
       "\n",
       "    .dataframe tbody tr th {\n",
       "        vertical-align: top;\n",
       "    }\n",
       "\n",
       "    .dataframe thead th {\n",
       "        text-align: right;\n",
       "    }\n",
       "</style>\n",
       "<table border=\"1\" class=\"dataframe\">\n",
       "  <thead>\n",
       "    <tr style=\"text-align: right;\">\n",
       "      <th></th>\n",
       "      <th>Star</th>\n",
       "      <th>Value</th>\n",
       "      <th>brandId</th>\n",
       "      <th>brandName</th>\n",
       "      <th>goodsName</th>\n",
       "      <th>isSoldOut</th>\n",
       "      <th>link</th>\n",
       "      <th>lowQuantity</th>\n",
       "      <th>ordersCount</th>\n",
       "      <th>price</th>\n",
       "      <th>...</th>\n",
       "      <th>Вес с упаковкой (кг)</th>\n",
       "      <th>Длина кабеля</th>\n",
       "      <th>Количество температурных режимов</th>\n",
       "      <th>Материал корпуса</th>\n",
       "      <th>Модель</th>\n",
       "      <th>Мощность устройства</th>\n",
       "      <th>Объем чайника</th>\n",
       "      <th>Страна бренда</th>\n",
       "      <th>Страна производитель</th>\n",
       "      <th>Цвет</th>\n",
       "    </tr>\n",
       "  </thead>\n",
       "  <tbody>\n",
       "    <tr>\n",
       "      <th>0</th>\n",
       "      <td>4.0</td>\n",
       "      <td>4193.0</td>\n",
       "      <td>16012.0</td>\n",
       "      <td>0</td>\n",
       "      <td>0</td>\n",
       "      <td>0.0</td>\n",
       "      <td>0</td>\n",
       "      <td>0.0</td>\n",
       "      <td>600.0</td>\n",
       "      <td>5990.0</td>\n",
       "      <td>...</td>\n",
       "      <td>1.62</td>\n",
       "      <td>75.0</td>\n",
       "      <td>0</td>\n",
       "      <td>0</td>\n",
       "      <td>0</td>\n",
       "      <td>2200.0</td>\n",
       "      <td>1.5</td>\n",
       "      <td>0</td>\n",
       "      <td>0</td>\n",
       "      <td>0</td>\n",
       "    </tr>\n",
       "    <tr>\n",
       "      <th>1</th>\n",
       "      <td>3.0</td>\n",
       "      <td>1999.0</td>\n",
       "      <td>3300.0</td>\n",
       "      <td>1</td>\n",
       "      <td>1</td>\n",
       "      <td>0.0</td>\n",
       "      <td>1</td>\n",
       "      <td>0.0</td>\n",
       "      <td>100.0</td>\n",
       "      <td>1999.0</td>\n",
       "      <td>...</td>\n",
       "      <td>1.35</td>\n",
       "      <td>60.0</td>\n",
       "      <td>-1</td>\n",
       "      <td>-1</td>\n",
       "      <td>-1</td>\n",
       "      <td>1800.0</td>\n",
       "      <td>1.8</td>\n",
       "      <td>1</td>\n",
       "      <td>0</td>\n",
       "      <td>1</td>\n",
       "    </tr>\n",
       "    <tr>\n",
       "      <th>2</th>\n",
       "      <td>4.0</td>\n",
       "      <td>1883.0</td>\n",
       "      <td>16012.0</td>\n",
       "      <td>0</td>\n",
       "      <td>2</td>\n",
       "      <td>0.0</td>\n",
       "      <td>2</td>\n",
       "      <td>0.0</td>\n",
       "      <td>2100.0</td>\n",
       "      <td>2990.0</td>\n",
       "      <td>...</td>\n",
       "      <td>1.30</td>\n",
       "      <td>75.0</td>\n",
       "      <td>0</td>\n",
       "      <td>1</td>\n",
       "      <td>1</td>\n",
       "      <td>2400.0</td>\n",
       "      <td>1.5</td>\n",
       "      <td>0</td>\n",
       "      <td>1</td>\n",
       "      <td>2</td>\n",
       "    </tr>\n",
       "  </tbody>\n",
       "</table>\n",
       "<p>3 rows × 21 columns</p>\n",
       "</div>"
      ],
      "text/plain": [
       "   Star   Value  brandId  brandName  goodsName  isSoldOut  link  lowQuantity  \\\n",
       "0   4.0  4193.0  16012.0          0          0        0.0     0          0.0   \n",
       "1   3.0  1999.0   3300.0          1          1        0.0     1          0.0   \n",
       "2   4.0  1883.0  16012.0          0          2        0.0     2          0.0   \n",
       "\n",
       "   ordersCount   price  ...  Вес с упаковкой (кг)  Длина кабеля  \\\n",
       "0        600.0  5990.0  ...                  1.62          75.0   \n",
       "1        100.0  1999.0  ...                  1.35          60.0   \n",
       "2       2100.0  2990.0  ...                  1.30          75.0   \n",
       "\n",
       "   Количество температурных режимов  Материал корпуса  Модель  \\\n",
       "0                                 0                 0       0   \n",
       "1                                -1                -1      -1   \n",
       "2                                 0                 1       1   \n",
       "\n",
       "   Мощность устройства  Объем чайника  Страна бренда  Страна производитель  \\\n",
       "0               2200.0            1.5              0                     0   \n",
       "1               1800.0            1.8              1                     0   \n",
       "2               2400.0            1.5              0                     1   \n",
       "\n",
       "   Цвет  \n",
       "0     0  \n",
       "1     1  \n",
       "2     2  \n",
       "\n",
       "[3 rows x 21 columns]"
      ]
     },
     "execution_count": 12,
     "metadata": {},
     "output_type": "execute_result"
    }
   ],
   "source": [
    "X = pd.DataFrame() # создаём пустой Dataset (набор данных)\n",
    "# заполняем созданный dataset элементами i\n",
    "\n",
    "for i in col:\n",
    "    if df[i].dtype.name != 'object':    # если тип данных НЕ ОБЪЕКТ\n",
    "        X[i]=df[i].copy()      # копируем\n",
    "        X.loc[X[i].isna(), i]=X[i].median() # .isna() - это check на NaN. При True заполняет ячейку средним значением\n",
    "    else:\n",
    "        X[i]=pd.factorize(df[i])[0]\n",
    "        \n",
    "X.head(3)"
   ]
  },
  {
   "cell_type": "code",
   "execution_count": 16,
   "id": "dbe0d3a4",
   "metadata": {},
   "outputs": [
    {
     "data": {
      "text/plain": [
       "array([1, 1, 1, 1, 1, 0, 1, 1, 1, 1, 1, 1, 0, 1, 1, 1, 1, 1, 1, 1, 0, 0,\n",
       "       0, 1, 1, 0, 0, 0, 1, 0, 0, 0, 0, 1, 1, 1, 0, 0, 1, 1, 0, 0, 1, 1,\n",
       "       1, 1, 1, 1, 1, 1, 0, 1, 0, 0, 1, 0, 1, 0, 0, 1, 0, 1, 0, 0, 0, 0,\n",
       "       0, 0, 0, 1, 1, 0, 1, 1, 0, 1, 1, 1, 0, 1, 1, 1, 0, 1, 1, 1, 1, 0,\n",
       "       0, 1, 0, 0, 0, 1, 0, 0, 1, 1, 1, 1, 1, 1, 1, 1, 1, 1, 1, 1, 1, 0,\n",
       "       1, 0, 1, 1, 1, 1, 1, 0, 1, 0, 1, 1, 1, 0, 1, 1, 1, 1, 1, 1, 1, 1,\n",
       "       1, 0, 1, 1, 0, 0, 1, 1, 1, 1, 0, 0, 1, 0, 0, 0, 0, 0, 0, 0, 0, 1,\n",
       "       0, 1, 1, 1, 1, 1, 1, 1, 1, 0, 1, 0, 1, 1, 1, 1, 1, 1, 1, 1, 1, 1,\n",
       "       0, 1, 0, 1, 1, 1, 0, 1, 1, 0, 1, 1, 1, 1, 1, 1, 1, 1, 1, 1, 1, 1,\n",
       "       1, 1, 1, 0, 1, 1, 1, 1, 0, 0, 1, 0, 1, 1, 1, 1, 0, 1, 1, 1, 1, 0,\n",
       "       0, 0, 1, 1, 1, 1, 1, 1, 1, 0, 0, 1, 1, 1, 1, 1, 1, 1, 1, 1, 1, 1,\n",
       "       1, 0, 1, 0, 1, 0, 1, 0, 0, 0, 1, 1, 1, 0, 1, 1, 0, 0, 1, 1, 1, 0,\n",
       "       0, 0, 0, 0, 1, 0, 0, 1, 1, 1, 0, 0, 1, 0, 1, 0, 0, 0, 0, 0, 0, 0,\n",
       "       1, 1, 1, 1, 1, 0, 0, 0, 0, 1, 0, 0, 0, 0, 0, 1, 1, 1, 1, 0, 1, 1,\n",
       "       0, 0, 1, 1, 1, 1, 1, 1, 1, 1, 1, 1, 0, 0, 0, 0, 1, 0, 0, 0, 1, 1,\n",
       "       1, 0, 0, 1, 1, 0, 0, 0, 0, 0, 1, 1, 1, 1, 1, 0, 1, 1, 1, 1, 1, 0,\n",
       "       0, 0, 0, 0, 1, 0, 0, 1, 1, 1, 0, 0, 0, 0, 0, 1, 1, 1, 1, 1, 1, 1,\n",
       "       0, 0, 1, 1, 1, 1, 0, 1, 0, 0, 0, 1, 0, 0, 0, 0, 0, 0, 0, 0, 0, 0,\n",
       "       0, 1, 1, 1, 1, 1, 1, 1, 1, 0, 0, 0, 1, 1, 1, 1, 1, 1, 1, 1, 1, 1,\n",
       "       1, 1, 1, 0, 1, 0, 1, 0, 0, 1, 0, 0, 0, 1, 1, 1, 1, 1, 1, 0, 0, 0,\n",
       "       0, 1, 0, 1, 1, 0, 1, 0, 0, 0, 0, 1, 1, 1, 0, 1, 1, 1, 1, 1, 0, 1,\n",
       "       0, 1, 1, 1, 1, 1, 0, 0, 1, 0, 0, 0, 1, 1, 0, 1, 0, 0, 0, 1, 0, 0,\n",
       "       1, 0, 0, 0, 0, 0, 1, 1, 0, 1, 1, 0, 1, 0, 0, 0, 0, 1, 1, 1, 1, 0,\n",
       "       1, 0, 0, 1, 0, 0, 0, 0, 0, 0, 0, 0, 0, 0, 1, 1, 0, 0, 0, 0, 0, 0,\n",
       "       1, 0, 0, 0, 0, 1, 1, 0, 0, 0, 0, 0, 0, 0, 0, 0, 0, 0, 0, 1, 0, 0,\n",
       "       0, 0, 1, 0, 0, 0, 0, 0, 0, 0, 0, 0, 0, 0, 0, 0, 1, 0, 0, 0, 0, 0,\n",
       "       0, 0, 0, 0, 0, 0, 0, 0, 1, 1, 0, 0, 0, 0, 1, 1, 0, 1, 1, 1, 0, 0,\n",
       "       0, 0, 0, 0, 0, 0, 0, 1, 1, 0, 1, 0, 0, 0, 1, 0, 0, 0, 1, 0, 0, 0,\n",
       "       1, 0, 1, 1, 1, 0, 0, 0, 0, 0, 0, 0, 0, 0, 0, 0, 0, 0, 0, 0, 0, 0,\n",
       "       0, 1, 0, 0], dtype=int64)"
      ]
     },
     "execution_count": 16,
     "metadata": {},
     "output_type": "execute_result"
    }
   ],
   "source": [
    "y = df['Review'].apply(lambda x: 1 if x>10 else 0).values\n",
    "y"
   ]
  },
  {
   "cell_type": "code",
   "execution_count": 17,
   "id": "5ab58928",
   "metadata": {},
   "outputs": [],
   "source": [
    "X_train, X_test, y_train, y_test = train_test_split(X, y, test_size=0.2, random_state=42)"
   ]
  },
  {
   "cell_type": "code",
   "execution_count": 21,
   "id": "adcc8702",
   "metadata": {},
   "outputs": [
    {
     "data": {
      "text/plain": [
       "RandomForestClassifier()"
      ]
     },
     "execution_count": 21,
     "metadata": {},
     "output_type": "execute_result"
    }
   ],
   "source": [
    "model = RandomForestClassifier(n_estimators=100)   # n_estimators - amount of trees\n",
    "model.fit(X_train, y_train)"
   ]
  },
  {
   "cell_type": "code",
   "execution_count": 23,
   "id": "2d48370c",
   "metadata": {},
   "outputs": [
    {
     "name": "stdout",
     "output_type": "stream",
     "text": [
      "Значимость признака:\n"
     ]
    },
    {
     "data": {
      "text/plain": [
       "[[0.3353, 'ordersCount'],\n",
       " [0.0725, 'link'],\n",
       " [0.0641, 'goodsName'],\n",
       " [0.0565, 'Модель'],\n",
       " [0.0507, 'Star'],\n",
       " [0.047, 'Страна бренда'],\n",
       " [0.0441, 'brandName'],\n",
       " [0.0427, 'price'],\n",
       " [0.041, 'brandId'],\n",
       " [0.0389, 'Цвет'],\n",
       " [0.0371, 'Value'],\n",
       " [0.0355, 'Вес с упаковкой (кг)'],\n",
       " [0.0291, 'Длина кабеля'],\n",
       " [0.0252, 'qualityRate'],\n",
       " [0.0223, 'Мощность устройства'],\n",
       " [0.0184, 'Количество температурных режимов'],\n",
       " [0.0181, 'Материал корпуса'],\n",
       " [0.0152, 'Объем чайника'],\n",
       " [0.0047, 'lowQuantity'],\n",
       " [0.0015, 'Страна производитель'],\n",
       " [0.0001, 'isSoldOut']]"
      ]
     },
     "execution_count": 23,
     "metadata": {},
     "output_type": "execute_result"
    }
   ],
   "source": [
    "importances = model.feature_importances_\n",
    "indices = np.argsort(importances)[::-1]\n",
    "\n",
    "ar_f = []\n",
    "for i, idx in enumerate(indices):\n",
    "    ar_f.append([round(importances[idx],4), col[idx]])\n",
    "print('Значимость признака:')\n",
    "ar_f.sort(reverse=True)\n",
    "ar_f"
   ]
  },
  {
   "cell_type": "code",
   "execution_count": 26,
   "id": "567094ca",
   "metadata": {},
   "outputs": [
    {
     "data": {
      "image/png": "[encoded data removed]",
      "text/plain": [
       "<Figure size 576x576 with 1 Axes>"
      ]
     },
     "metadata": {
      "needs_background": "light"
     },
     "output_type": "display_data"
    }
   ],
   "source": [
    "# столбчатая диаграмма\n",
    "d_first = len(col)\n",
    "plt.figure(figsize=(8,8))\n",
    "plt.title('Значимость признака')\n",
    "plt.bar(range(d_first), importances[indices[:d_first]], align='center')\n",
    "plt.xticks(range(d_first), np.array(col)[indices[:d_first]], rotation=90)\n",
    "plt.xlim([-1, d_first]);"
   ]
  },
  {
   "cell_type": "code",
   "execution_count": 27,
   "id": "59048e18",
   "metadata": {},
   "outputs": [
    {
     "data": {
      "text/plain": [
       "array([0, 1, 0, 0, 1, 1, 1, 0, 1, 1, 1, 1, 0, 1, 1, 0, 0, 0, 1, 1, 0, 0,\n",
       "       1, 1, 0, 0, 0, 1, 1, 0, 0, 1, 1, 0, 0, 0, 1, 1, 1, 1, 1, 0, 0, 1,\n",
       "       1, 1, 0, 1, 0, 1, 0, 0, 1, 0, 0, 1, 0, 1, 1, 0, 1, 1, 0, 0, 0, 0,\n",
       "       1, 0, 0, 0, 0, 1, 0, 1, 0, 0, 1, 0, 1, 1, 0, 1, 0, 0, 1, 0, 1, 0,\n",
       "       0, 1, 1, 0, 1, 1, 0, 0, 1, 0, 1, 0, 1, 1, 1, 1, 1, 1, 0, 1, 1, 0,\n",
       "       1, 0, 1, 1, 0, 0, 0, 0, 1, 0, 0, 0, 1, 1, 1, 1, 1, 0, 1],\n",
       "      dtype=int64)"
      ]
     },
     "execution_count": 27,
     "metadata": {},
     "output_type": "execute_result"
    }
   ],
   "source": [
    "# результат предсказания для тестовой выборки\n",
    "model.predict(X_test)"
   ]
  },
  {
   "cell_type": "code",
   "execution_count": 28,
   "id": "f7030e26",
   "metadata": {},
   "outputs": [
    {
     "data": {
      "text/plain": [
       "array([1, 1, 0, 1, 1, 1, 1, 0, 1, 1, 1, 1, 0, 1, 1, 0, 1, 0, 1, 1, 0, 0,\n",
       "       1, 1, 0, 1, 0, 1, 1, 0, 0, 0, 0, 0, 0, 0, 1, 1, 1, 1, 0, 0, 0, 1,\n",
       "       1, 1, 0, 1, 0, 1, 0, 0, 1, 0, 0, 1, 0, 1, 1, 0, 0, 1, 1, 0, 0, 0,\n",
       "       1, 0, 0, 0, 0, 1, 1, 1, 0, 1, 1, 0, 1, 1, 0, 1, 0, 1, 1, 0, 1, 0,\n",
       "       0, 1, 1, 0, 1, 0, 1, 0, 1, 0, 0, 0, 1, 1, 1, 1, 0, 0, 0, 1, 1, 0,\n",
       "       1, 0, 1, 1, 0, 0, 1, 0, 1, 0, 0, 0, 1, 1, 1, 1, 0, 0, 1],\n",
       "      dtype=int64)"
      ]
     },
     "execution_count": 28,
     "metadata": {},
     "output_type": "execute_result"
    }
   ],
   "source": [
    "y_test"
   ]
  },
  {
   "cell_type": "code",
   "execution_count": 29,
   "id": "0286044d",
   "metadata": {},
   "outputs": [
    {
     "data": {
      "text/plain": [
       "0.4099662975445353"
      ]
     },
     "execution_count": 29,
     "metadata": {},
     "output_type": "execute_result"
    }
   ],
   "source": [
    "r2_score(model.predict(X_test), y_test)"
   ]
  },
  {
   "cell_type": "code",
   "execution_count": 31,
   "id": "33d08eb9",
   "metadata": {},
   "outputs": [
    {
     "name": "stdout",
     "output_type": "stream",
     "text": [
      "Accuracy: 0.8527131782945736\n"
     ]
    }
   ],
   "source": [
    "from sklearn import metrics\n",
    "# метрика, насколько точно мы предсказываем правильные значения как для 0, так и 1\n",
    "print('Accuracy:', metrics.accuracy_score(y_test, model.predict(X_test)))"
   ]
  },
  {
   "cell_type": "code",
   "execution_count": 33,
   "id": "0ab5e2b9",
   "metadata": {},
   "outputs": [
    {
     "data": {
      "text/plain": [
       "array([[52,  9],\n",
       "       [10, 58]], dtype=int64)"
      ]
     },
     "execution_count": 33,
     "metadata": {},
     "output_type": "execute_result"
    }
   ],
   "source": [
    "from sklearn.metrics import confusion_matrix\n",
    "confusion_matrix(y_test, model.predict(X_test))"
   ]
  },
  {
   "cell_type": "code",
   "execution_count": 36,
   "id": "cfa56d43",
   "metadata": {},
   "outputs": [
    {
     "data": {
      "image/png": "[encoded data removed]",
      "text/plain": [
       "<Figure size 1152x504 with 2 Axes>"
      ]
     },
     "metadata": {},
     "output_type": "display_data"
    }
   ],
   "source": [
    "matrix = confusion_matrix(y_test, model.predict(X_test))\n",
    "matrix = matrix.astype('float') / matrix.sum(axis=1)[:, np.newaxis]\n",
    "\n",
    "#Build the plot\n",
    "plt.figure(figsize=(16,7))\n",
    "sns.set(font_scale=1.4)\n",
    "sns.heatmap(matrix, annot=True, annot_kws={'size':10},\n",
    "           cmap=plt.cm.Greens, linewidths=0.2)\n",
    "\n",
    "# Add labels to the plot\n",
    "class_names=['<10', '>10']\n",
    "tick_marks=np.arange(len(class_names))\n",
    "tick_marks2=tick_marks + 0.5\n",
    "plt.xticks(tick_marks, class_names, rotation=25)\n",
    "plt.yticks(tick_marks2, class_names, rotation=0)\n",
    "plt.xlabel('Предсказанные классы')\n",
    "plt.ylabel('Истинные классы')\n",
    "plt.title('Confusion Matrix for Random Forest Model')\n",
    "plt.show()"
   ]
  },
  {
   "cell_type": "code",
   "execution_count": 37,
   "id": "20645d10",
   "metadata": {},
   "outputs": [
    {
     "name": "stdout",
     "output_type": "stream",
     "text": [
      "              precision    recall  f1-score   support\n",
      "\n",
      "           0       0.84      0.85      0.85        61\n",
      "           1       0.87      0.85      0.86        68\n",
      "\n",
      "    accuracy                           0.85       129\n",
      "   macro avg       0.85      0.85      0.85       129\n",
      "weighted avg       0.85      0.85      0.85       129\n",
      "\n"
     ]
    }
   ],
   "source": [
    "from sklearn.metrics import classification_report\n",
    "print(classification_report(y_test, model.predict(X_test)))"
   ]
  },
  {
   "cell_type": "code",
   "execution_count": null,
   "id": "c7933208",
   "metadata": {},
   "outputs": [],
   "source": []
  }
 ],
 "metadata": {
  "kernelspec": {
   "display_name": "Python 3",
   "language": "python",
   "name": "python3"
  },
  "language_info": {
   "codemirror_mode": {
    "name": "ipython",
    "version": 3
   },
   "file_extension": ".py",
   "mimetype": "text/x-python",
   "name": "python",
   "nbconvert_exporter": "python",
   "pygments_lexer": "ipython3",
   "version": "3.9.5"
  }
 },
 "nbformat": 4,
 "nbformat_minor": 5
}
