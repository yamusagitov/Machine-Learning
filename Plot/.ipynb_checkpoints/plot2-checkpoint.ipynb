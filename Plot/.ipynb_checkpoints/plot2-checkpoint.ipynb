{
 "cells": [
  {
   "cell_type": "code",
   "execution_count": null,
   "metadata": {},
   "outputs": [],
   "source": [
    "import numpy as np\n",
    "import matplotlib.pyplot as plt\n"
   ]
  },
  {
   "cell_type": "code",
   "execution_count": null,
   "metadata": {},
   "outputs": [],
   "source": [
    "plt.axis([0,5,0,20])\n",
    "plt.title('My second plot')\n",
    "plt.plot([1,2,3,4],[1,4,9,16], 'ro')\n"
   ]
  }
 ],
 "metadata": {
  "interpreter": {
   "hash": "47bb84909b03d17dbddeb93b64012d6c724021d09c41b097be8643c597d82818"
  },
  "kernelspec": {
   "display_name": "Python 3",
   "language": "python",
   "name": "python3"
  },
  "language_info": {
   "codemirror_mode": {
    "name": "ipython",
    "version": 3
   },
   "file_extension": ".py",
   "mimetype": "text/x-python",
   "name": "python",
   "nbconvert_exporter": "python",
   "pygments_lexer": "ipython3",
   "version": "3.9.5"
  },
  "metadata": {
   "interpreter": {
    "hash": "47bb84909b03d17dbddeb93b64012d6c724021d09c41b097be8643c597d82818"
   }
  }
 },
 "nbformat": 4,
 "nbformat_minor": 2
}
