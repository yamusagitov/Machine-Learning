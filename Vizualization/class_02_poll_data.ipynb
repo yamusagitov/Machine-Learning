{
 "cells": [
  {
   "cell_type": "code",
   "execution_count": 1,
   "id": "46580dc3",
   "metadata": {},
   "outputs": [],
   "source": [
    "import numpy as np\n",
    "import matplotlib.pyplot as plt\n",
    "import seaborn as sns\n",
    "import pandas as pd\n",
    "%matplotlib inline"
   ]
  },
  {
   "cell_type": "code",
   "execution_count": 2,
   "id": "2e655a15",
   "metadata": {},
   "outputs": [],
   "source": [
    "poll_data = pd.read_csv('../data/mlcourse_open_first_survey_parsed.csv')"
   ]
  },
  {
   "cell_type": "code",
   "execution_count": 3,
   "id": "014d50f6",
   "metadata": {
    "scrolled": true
   },
   "outputs": [
    {
     "data": {
      "text/html": [
       "<div>\n",
       "<style scoped>\n",
       "    .dataframe tbody tr th:only-of-type {\n",
       "        vertical-align: middle;\n",
       "    }\n",
       "\n",
       "    .dataframe tbody tr th {\n",
       "        vertical-align: top;\n",
       "    }\n",
       "\n",
       "    .dataframe thead th {\n",
       "        text-align: right;\n",
       "    }\n",
       "</style>\n",
       "<table border=\"1\" class=\"dataframe\">\n",
       "  <thead>\n",
       "    <tr style=\"text-align: right;\">\n",
       "      <th></th>\n",
       "      <th>id</th>\n",
       "      <th>Timestamp</th>\n",
       "      <th>Представьтесь в 2-3 фразах</th>\n",
       "      <th>Работали ли Вы с Jupyter notebooks?</th>\n",
       "      <th>Что Вы ждете от курса?</th>\n",
       "      <th>Потом мы прямо этот же набор данных поанализируем с Pandas. Так что какой Ваш любимый вид спорта?</th>\n",
       "      <th>Ладно, посерьезней: согласны ли Вы на обработку персональных данных?</th>\n",
       "      <th>Какие оцениваете свой уровень математической подготовки? (матан, линал, теорвер)</th>\n",
       "      <th>Чему равна дисперсия равномерного на [0,6] распределения?</th>\n",
       "      <th>Найдите минимум функции 3x^4-8x^3+6x^2-12 на отрезке [-3,3]</th>\n",
       "      <th>Сколько параметров у нормального распределения?</th>\n",
       "      <th>Сможете написать на Python генератор чисел Фибоначчи?</th>\n",
       "      <th>Хорошо, а готовы к началу курса (6 сентября 2017) освоить азы Python? На уровне Code Academy, DataCamp или github.com/Yorko/python_intro</th>\n",
       "      <th>Оцените свой уровень владения GitHub</th>\n",
       "      <th>Посоветуйте хороший фильм в стиле \"Игра в имитацию\" :)</th>\n",
       "    </tr>\n",
       "  </thead>\n",
       "  <tbody>\n",
       "    <tr>\n",
       "      <th>0</th>\n",
       "      <td>0</td>\n",
       "      <td>2016/12/05 10:39:59 am GMT+3</td>\n",
       "      <td>крутой Developer</td>\n",
       "      <td>Да</td>\n",
       "      <td>Ребята, вижу ваш настрой, уверен курс будет ин...</td>\n",
       "      <td>Starcraft</td>\n",
       "      <td>Да</td>\n",
       "      <td>4</td>\n",
       "      <td>3</td>\n",
       "      <td>-12</td>\n",
       "      <td>2.0</td>\n",
       "      <td>Да</td>\n",
       "      <td>Да</td>\n",
       "      <td>Проф</td>\n",
       "      <td>Прочитай книгу Лема \"Голос Неба\", очень много ...</td>\n",
       "    </tr>\n",
       "    <tr>\n",
       "      <th>1</th>\n",
       "      <td>1</td>\n",
       "      <td>2016/12/05 10:44:27 am GMT+3</td>\n",
       "      <td>Разработчик Navision. Изучаю тему DS для возмо...</td>\n",
       "      <td>Да</td>\n",
       "      <td>Практики, подкрепленной теорией. Хочется упоря...</td>\n",
       "      <td>NaN</td>\n",
       "      <td>Да</td>\n",
       "      <td>1</td>\n",
       "      <td>3</td>\n",
       "      <td>NaN</td>\n",
       "      <td>2.0</td>\n",
       "      <td>Да, но фиговый.</td>\n",
       "      <td>Да</td>\n",
       "      <td>Могу скачать материалы</td>\n",
       "      <td>NaN</td>\n",
       "    </tr>\n",
       "  </tbody>\n",
       "</table>\n",
       "</div>"
      ],
      "text/plain": [
       "   id                     Timestamp  \\\n",
       "0   0  2016/12/05 10:39:59 am GMT+3   \n",
       "1   1  2016/12/05 10:44:27 am GMT+3   \n",
       "\n",
       "                          Представьтесь в 2-3 фразах  \\\n",
       "0                                   крутой Developer   \n",
       "1  Разработчик Navision. Изучаю тему DS для возмо...   \n",
       "\n",
       "  Работали ли Вы с Jupyter notebooks?  \\\n",
       "0                                  Да   \n",
       "1                                  Да   \n",
       "\n",
       "                              Что Вы ждете от курса?  \\\n",
       "0  Ребята, вижу ваш настрой, уверен курс будет ин...   \n",
       "1  Практики, подкрепленной теорией. Хочется упоря...   \n",
       "\n",
       "  Потом мы прямо этот же набор данных поанализируем с Pandas. Так что какой Ваш любимый вид спорта?  \\\n",
       "0                                          Starcraft                                                  \n",
       "1                                                NaN                                                  \n",
       "\n",
       "  Ладно, посерьезней: согласны ли Вы на обработку персональных данных?  \\\n",
       "0                                                 Да                     \n",
       "1                                                 Да                     \n",
       "\n",
       "   Какие оцениваете свой уровень математической подготовки? (матан, линал, теорвер)  \\\n",
       "0                                                  4                                  \n",
       "1                                                  1                                  \n",
       "\n",
       "  Чему равна дисперсия равномерного на [0,6] распределения?  \\\n",
       "0                                                  3          \n",
       "1                                                  3          \n",
       "\n",
       "  Найдите минимум функции 3x^4-8x^3+6x^2-12 на отрезке [-3,3]  \\\n",
       "0                                                -12            \n",
       "1                                                NaN            \n",
       "\n",
       "   Сколько параметров у нормального распределения?  \\\n",
       "0                                              2.0   \n",
       "1                                              2.0   \n",
       "\n",
       "  Сможете написать на Python генератор чисел Фибоначчи?  \\\n",
       "0                                                 Да      \n",
       "1                                    Да, но фиговый.      \n",
       "\n",
       "  Хорошо, а готовы к началу курса (6 сентября 2017) освоить азы Python? На уровне Code Academy, DataCamp или github.com/Yorko/python_intro  \\\n",
       "0                                                 Да                                                                                         \n",
       "1                                                 Да                                                                                         \n",
       "\n",
       "  Оцените свой уровень владения GitHub  \\\n",
       "0                                 Проф   \n",
       "1               Могу скачать материалы   \n",
       "\n",
       "  Посоветуйте хороший фильм в стиле \"Игра в имитацию\" :)  \n",
       "0  Прочитай книгу Лема \"Голос Неба\", очень много ...      \n",
       "1                                                NaN      "
      ]
     },
     "execution_count": 3,
     "metadata": {},
     "output_type": "execute_result"
    }
   ],
   "source": [
    "poll_data.head(2)"
   ]
  },
  {
   "cell_type": "code",
   "execution_count": 4,
   "id": "96fdee5d",
   "metadata": {
    "scrolled": true
   },
   "outputs": [
    {
     "name": "stdout",
     "output_type": "stream",
     "text": [
      "<class 'pandas.core.frame.DataFrame'>\n",
      "RangeIndex: 2944 entries, 0 to 2943\n",
      "Data columns (total 15 columns):\n",
      " #   Column                                                                                                                                    Non-Null Count  Dtype  \n",
      "---  ------                                                                                                                                    --------------  -----  \n",
      " 0   id                                                                                                                                        2944 non-null   int64  \n",
      " 1   Timestamp                                                                                                                                 2944 non-null   object \n",
      " 2   Представьтесь в 2-3 фразах                                                                                                                2944 non-null   object \n",
      " 3   Работали ли Вы с Jupyter notebooks?                                                                                                       2931 non-null   object \n",
      " 4   Что Вы ждете от курса?                                                                                                                    2944 non-null   object \n",
      " 5   Потом мы прямо этот же набор данных поанализируем с Pandas. Так что какой Ваш любимый вид спорта?                                         2638 non-null   object \n",
      " 6   Ладно, посерьезней: согласны ли Вы на обработку персональных данных?                                                                      2944 non-null   object \n",
      " 7   Какие оцениваете свой уровень математической подготовки? (матан, линал, теорвер)                                                          2944 non-null   int64  \n",
      " 8   Чему равна дисперсия равномерного на [0,6] распределения?                                                                                 2689 non-null   object \n",
      " 9   Найдите минимум функции 3x^4-8x^3+6x^2-12 на отрезке [-3,3]                                                                               2623 non-null   object \n",
      " 10  Сколько параметров у нормального распределения?                                                                                           2725 non-null   float64\n",
      " 11  Сможете написать на Python генератор чисел Фибоначчи?                                                                                     2944 non-null   object \n",
      " 12  Хорошо, а готовы к началу курса (6 сентября 2017) освоить азы Python? На уровне Code Academy, DataCamp или github.com/Yorko/python_intro  2944 non-null   object \n",
      " 13  Оцените свой уровень владения GitHub                                                                                                      2910 non-null   object \n",
      " 14  Посоветуйте хороший фильм в стиле \"Игра в имитацию\" :)                                                                                    2086 non-null   object \n",
      "dtypes: float64(1), int64(2), object(12)\n",
      "memory usage: 345.1+ KB\n"
     ]
    }
   ],
   "source": [
    "poll_data.info()"
   ]
  },
  {
   "cell_type": "code",
   "execution_count": 5,
   "id": "52cb6747",
   "metadata": {},
   "outputs": [
    {
     "data": {
      "text/plain": [
       "(2944, 15)"
      ]
     },
     "execution_count": 5,
     "metadata": {},
     "output_type": "execute_result"
    }
   ],
   "source": [
    "poll_data.shape"
   ]
  },
  {
   "cell_type": "code",
   "execution_count": 6,
   "id": "a0da38b0",
   "metadata": {
    "scrolled": false
   },
   "outputs": [
    {
     "data": {
      "text/plain": [
       "Index(['id', 'Timestamp', 'Представьтесь в 2-3 фразах',\n",
       "       'Работали ли Вы с Jupyter notebooks?', 'Что Вы ждете от курса?',\n",
       "       'Потом мы прямо этот же набор данных поанализируем с Pandas. Так что какой Ваш любимый вид спорта?',\n",
       "       'Ладно, посерьезней: согласны ли Вы на обработку персональных данных?',\n",
       "       'Какие оцениваете свой уровень математической подготовки? (матан, линал, теорвер)',\n",
       "       'Чему равна дисперсия равномерного на [0,6] распределения?',\n",
       "       'Найдите минимум функции 3x^4-8x^3+6x^2-12 на отрезке [-3,3]',\n",
       "       'Сколько параметров у нормального распределения?',\n",
       "       'Сможете написать на Python генератор чисел Фибоначчи?',\n",
       "       'Хорошо, а готовы к началу курса (6 сентября 2017) освоить азы Python? На уровне Code Academy, DataCamp или github.com/Yorko/python_intro',\n",
       "       'Оцените свой уровень владения GitHub',\n",
       "       'Посоветуйте хороший фильм в стиле \"Игра в имитацию\" :)'],\n",
       "      dtype='object')"
      ]
     },
     "execution_count": 6,
     "metadata": {},
     "output_type": "execute_result"
    }
   ],
   "source": [
    "poll_data.columns"
   ]
  },
  {
   "cell_type": "markdown",
   "id": "918e354c",
   "metadata": {},
   "source": [
    "### слияние / замена заголовков"
   ]
  },
  {
   "cell_type": "code",
   "execution_count": 7,
   "id": "c647d03e",
   "metadata": {},
   "outputs": [],
   "source": [
    "rename_dic = dict(zip(poll_data.columns, ['ID', 'time', 'intro', 'jupyter', 'expect', \n",
    "                        'sport', 'personal', 'math_level', 'quest1', \n",
    "                        'quest2', 'quest3', 'fib_gen', 'python', \n",
    "                        'github', 'movie']))"
   ]
  },
  {
   "cell_type": "code",
   "execution_count": 8,
   "id": "ed4ed91b",
   "metadata": {},
   "outputs": [],
   "source": [
    "poll_data.rename(columns=rename_dic, inplace = True)"
   ]
  },
  {
   "cell_type": "code",
   "execution_count": 9,
   "id": "a497fba8",
   "metadata": {},
   "outputs": [
    {
     "data": {
      "text/html": [
       "<div>\n",
       "<style scoped>\n",
       "    .dataframe tbody tr th:only-of-type {\n",
       "        vertical-align: middle;\n",
       "    }\n",
       "\n",
       "    .dataframe tbody tr th {\n",
       "        vertical-align: top;\n",
       "    }\n",
       "\n",
       "    .dataframe thead th {\n",
       "        text-align: right;\n",
       "    }\n",
       "</style>\n",
       "<table border=\"1\" class=\"dataframe\">\n",
       "  <thead>\n",
       "    <tr style=\"text-align: right;\">\n",
       "      <th></th>\n",
       "      <th>ID</th>\n",
       "      <th>time</th>\n",
       "      <th>intro</th>\n",
       "      <th>jupyter</th>\n",
       "      <th>expect</th>\n",
       "      <th>sport</th>\n",
       "      <th>personal</th>\n",
       "      <th>math_level</th>\n",
       "      <th>quest1</th>\n",
       "      <th>quest2</th>\n",
       "      <th>quest3</th>\n",
       "      <th>fib_gen</th>\n",
       "      <th>python</th>\n",
       "      <th>github</th>\n",
       "      <th>movie</th>\n",
       "    </tr>\n",
       "  </thead>\n",
       "  <tbody>\n",
       "    <tr>\n",
       "      <th>0</th>\n",
       "      <td>0</td>\n",
       "      <td>2016/12/05 10:39:59 am GMT+3</td>\n",
       "      <td>крутой Developer</td>\n",
       "      <td>Да</td>\n",
       "      <td>Ребята, вижу ваш настрой, уверен курс будет ин...</td>\n",
       "      <td>Starcraft</td>\n",
       "      <td>Да</td>\n",
       "      <td>4</td>\n",
       "      <td>3</td>\n",
       "      <td>-12</td>\n",
       "      <td>2.0</td>\n",
       "      <td>Да</td>\n",
       "      <td>Да</td>\n",
       "      <td>Проф</td>\n",
       "      <td>Прочитай книгу Лема \"Голос Неба\", очень много ...</td>\n",
       "    </tr>\n",
       "    <tr>\n",
       "      <th>1</th>\n",
       "      <td>1</td>\n",
       "      <td>2016/12/05 10:44:27 am GMT+3</td>\n",
       "      <td>Разработчик Navision. Изучаю тему DS для возмо...</td>\n",
       "      <td>Да</td>\n",
       "      <td>Практики, подкрепленной теорией. Хочется упоря...</td>\n",
       "      <td>NaN</td>\n",
       "      <td>Да</td>\n",
       "      <td>1</td>\n",
       "      <td>3</td>\n",
       "      <td>NaN</td>\n",
       "      <td>2.0</td>\n",
       "      <td>Да, но фиговый.</td>\n",
       "      <td>Да</td>\n",
       "      <td>Могу скачать материалы</td>\n",
       "      <td>NaN</td>\n",
       "    </tr>\n",
       "    <tr>\n",
       "      <th>2</th>\n",
       "      <td>2</td>\n",
       "      <td>2016/12/05 10:47:07 am GMT+3</td>\n",
       "      <td>Я Software Engeneer разработчик, активно интер...</td>\n",
       "      <td>Да</td>\n",
       "      <td>Побольше практики на реальных данных (задачах).</td>\n",
       "      <td>basketball</td>\n",
       "      <td>Да</td>\n",
       "      <td>3</td>\n",
       "      <td>3</td>\n",
       "      <td>NaN</td>\n",
       "      <td>2.0</td>\n",
       "      <td>Да</td>\n",
       "      <td>Да</td>\n",
       "      <td>Проф</td>\n",
       "      <td>NaN</td>\n",
       "    </tr>\n",
       "    <tr>\n",
       "      <th>3</th>\n",
       "      <td>3</td>\n",
       "      <td>2016/12/05 10:47:22 am GMT+3</td>\n",
       "      <td>Семилетний инженер. Специализируюсь в компьюте...</td>\n",
       "      <td>Да</td>\n",
       "      <td>Глубокого разбора алгоритмов и инструментов.</td>\n",
       "      <td>NaN</td>\n",
       "      <td>Да</td>\n",
       "      <td>3</td>\n",
       "      <td>0.5</td>\n",
       "      <td>-12</td>\n",
       "      <td>2.0</td>\n",
       "      <td>Да</td>\n",
       "      <td>Да</td>\n",
       "      <td>Пользуюсь ветками, могу что-то смерджить</td>\n",
       "      <td>Король говорит</td>\n",
       "    </tr>\n",
       "    <tr>\n",
       "      <th>4</th>\n",
       "      <td>5</td>\n",
       "      <td>2016/12/05 10:58:34 am GMT+3</td>\n",
       "      <td>программист. pl/sql python</td>\n",
       "      <td>Да</td>\n",
       "      <td>Упорядочить знания</td>\n",
       "      <td>футбол</td>\n",
       "      <td>Да</td>\n",
       "      <td>3</td>\n",
       "      <td>3</td>\n",
       "      <td>-12</td>\n",
       "      <td>2.0</td>\n",
       "      <td>Да</td>\n",
       "      <td>уже знаю</td>\n",
       "      <td>Пользуюсь ветками, могу что-то смерджить</td>\n",
       "      <td>NaN</td>\n",
       "    </tr>\n",
       "  </tbody>\n",
       "</table>\n",
       "</div>"
      ],
      "text/plain": [
       "   ID                          time  \\\n",
       "0   0  2016/12/05 10:39:59 am GMT+3   \n",
       "1   1  2016/12/05 10:44:27 am GMT+3   \n",
       "2   2  2016/12/05 10:47:07 am GMT+3   \n",
       "3   3  2016/12/05 10:47:22 am GMT+3   \n",
       "4   5  2016/12/05 10:58:34 am GMT+3   \n",
       "\n",
       "                                               intro jupyter  \\\n",
       "0                                   крутой Developer      Да   \n",
       "1  Разработчик Navision. Изучаю тему DS для возмо...      Да   \n",
       "2  Я Software Engeneer разработчик, активно интер...      Да   \n",
       "3  Семилетний инженер. Специализируюсь в компьюте...      Да   \n",
       "4                         программист. pl/sql python      Да   \n",
       "\n",
       "                                              expect       sport personal  \\\n",
       "0  Ребята, вижу ваш настрой, уверен курс будет ин...   Starcraft       Да   \n",
       "1  Практики, подкрепленной теорией. Хочется упоря...         NaN       Да   \n",
       "2    Побольше практики на реальных данных (задачах).  basketball       Да   \n",
       "3       Глубокого разбора алгоритмов и инструментов.         NaN       Да   \n",
       "4                                 Упорядочить знания      футбол       Да   \n",
       "\n",
       "   math_level quest1 quest2  quest3          fib_gen    python  \\\n",
       "0           4      3    -12     2.0               Да        Да   \n",
       "1           1      3    NaN     2.0  Да, но фиговый.        Да   \n",
       "2           3      3    NaN     2.0               Да        Да   \n",
       "3           3    0.5    -12     2.0               Да        Да   \n",
       "4           3      3    -12     2.0               Да  уже знаю   \n",
       "\n",
       "                                     github  \\\n",
       "0                                      Проф   \n",
       "1                    Могу скачать материалы   \n",
       "2                                      Проф   \n",
       "3  Пользуюсь ветками, могу что-то смерджить   \n",
       "4  Пользуюсь ветками, могу что-то смерджить   \n",
       "\n",
       "                                               movie  \n",
       "0  Прочитай книгу Лема \"Голос Неба\", очень много ...  \n",
       "1                                                NaN  \n",
       "2                                                NaN  \n",
       "3                                     Король говорит  \n",
       "4                                                NaN  "
      ]
     },
     "execution_count": 9,
     "metadata": {},
     "output_type": "execute_result"
    }
   ],
   "source": [
    "poll_data.head()"
   ]
  },
  {
   "cell_type": "code",
   "execution_count": 10,
   "id": "af74eb8d",
   "metadata": {
    "scrolled": true
   },
   "outputs": [
    {
     "data": {
      "text/plain": [
       "Да             2071\n",
       "Нет             766\n",
       "немного           7\n",
       "Немного           3\n",
       "Да, но мало       2\n",
       "Name: jupyter, dtype: int64"
      ]
     },
     "execution_count": 10,
     "metadata": {},
     "output_type": "execute_result"
    }
   ],
   "source": [
    "poll_data['jupyter'].value_counts().head()"
   ]
  },
  {
   "cell_type": "code",
   "execution_count": 11,
   "id": "86f2ac2e",
   "metadata": {
    "scrolled": true
   },
   "outputs": [],
   "source": [
    "jupyter_levels = poll_data['jupyter'].map({'Да': 1, 'Нет': 0}).fillna(2)"
   ]
  },
  {
   "cell_type": "code",
   "execution_count": 12,
   "id": "1430964c",
   "metadata": {},
   "outputs": [
    {
     "name": "stderr",
     "output_type": "stream",
     "text": [
      "c:\\users\\asutpdks4\\appdata\\local\\programs\\python\\python39\\lib\\site-packages\\seaborn\\_decorators.py:36: FutureWarning: Pass the following variable as a keyword arg: x. From version 0.12, the only valid positional argument will be `data`, and passing other arguments without an explicit keyword will result in an error or misinterpretation.\n",
      "  warnings.warn(\n"
     ]
    },
    {
     "data": {
      "image/png": "[encoded data removed]",
      "text/plain": [
       "<Figure size 432x288 with 1 Axes>"
      ]
     },
     "metadata": {
      "needs_background": "light"
     },
     "output_type": "display_data"
    }
   ],
   "source": [
    "sns.countplot(jupyter_levels);"
   ]
  },
  {
   "cell_type": "code",
   "execution_count": 13,
   "id": "ce95e70e",
   "metadata": {},
   "outputs": [
    {
     "data": {
      "text/plain": [
       "Index(['ID', 'time', 'intro', 'jupyter', 'expect', 'sport', 'personal',\n",
       "       'math_level', 'quest1', 'quest2', 'quest3', 'fib_gen', 'python',\n",
       "       'github', 'movie'],\n",
       "      dtype='object')"
      ]
     },
     "execution_count": 13,
     "metadata": {},
     "output_type": "execute_result"
    }
   ],
   "source": [
    "poll_data.columns"
   ]
  },
  {
   "cell_type": "code",
   "execution_count": 14,
   "id": "8f55caab",
   "metadata": {},
   "outputs": [
    {
     "data": {
      "text/plain": [
       "Футбол       197\n",
       "Баскетбол    113\n",
       "футбол       113\n",
       "Плавание      94\n",
       "Хоккей        66\n",
       "Name: sport, dtype: int64"
      ]
     },
     "execution_count": 14,
     "metadata": {},
     "output_type": "execute_result"
    }
   ],
   "source": [
    "poll_data.sport.value_counts().head()"
   ]
  },
  {
   "cell_type": "code",
   "execution_count": 15,
   "id": "e14956ce",
   "metadata": {},
   "outputs": [
    {
     "data": {
      "text/plain": [
       "array([ 2., nan,  1.,  4.,  3.])"
      ]
     },
     "execution_count": 15,
     "metadata": {},
     "output_type": "execute_result"
    }
   ],
   "source": [
    "poll_data['quest3'].unique()"
   ]
  },
  {
   "cell_type": "code",
   "execution_count": 16,
   "id": "e3fc5384",
   "metadata": {},
   "outputs": [
    {
     "data": {
      "text/plain": [
       "1.3630952380952381"
      ]
     },
     "execution_count": 16,
     "metadata": {},
     "output_type": "execute_result"
    }
   ],
   "source": [
    "(poll_data['quest3'] == 2).dropna().sum() / poll_data.dropna().shape[0]\n"
   ]
  },
  {
   "cell_type": "code",
   "execution_count": 17,
   "id": "2d237fea",
   "metadata": {
    "scrolled": true
   },
   "outputs": [
    {
     "data": {
      "text/plain": [
       "0.9244036697247706"
      ]
     },
     "execution_count": 17,
     "metadata": {},
     "output_type": "execute_result"
    }
   ],
   "source": [
    "(poll_data['quest3'] == 2).dropna().sum() / poll_data['quest3'][~poll_data['quest3'].isnull()].shape[0]"
   ]
  },
  {
   "cell_type": "code",
   "execution_count": 18,
   "id": "06fb020b",
   "metadata": {
    "scrolled": true
   },
   "outputs": [],
   "source": [
    "all_words = np.concatenate(poll_data['intro'].apply(lambda s: s.strip().split()).values)"
   ]
  },
  {
   "cell_type": "code",
   "execution_count": 19,
   "id": "153b70dd",
   "metadata": {
    "scrolled": false
   },
   "outputs": [
    {
     "data": {
      "text/plain": [
       "26533"
      ]
     },
     "execution_count": 19,
     "metadata": {},
     "output_type": "execute_result"
    }
   ],
   "source": [
    "len(all_words)"
   ]
  },
  {
   "cell_type": "code",
   "execution_count": 20,
   "id": "ae3e1b28",
   "metadata": {},
   "outputs": [
    {
     "ename": "ModuleNotFoundError",
     "evalue": "No module named 'nltk'",
     "output_type": "error",
     "traceback": [
      "\u001b[1;31m---------------------------------------------------------------------------\u001b[0m",
      "\u001b[1;31mModuleNotFoundError\u001b[0m                       Traceback (most recent call last)",
      "\u001b[1;32m<ipython-input-20-1d2184025e54>\u001b[0m in \u001b[0;36m<module>\u001b[1;34m\u001b[0m\n\u001b[1;32m----> 1\u001b[1;33m \u001b[1;32mimport\u001b[0m \u001b[0mnltk\u001b[0m\u001b[1;33m\u001b[0m\u001b[1;33m\u001b[0m\u001b[0m\n\u001b[0m",
      "\u001b[1;31mModuleNotFoundError\u001b[0m: No module named 'nltk'"
     ]
    }
   ],
   "source": [
    "import nltk"
   ]
  },
  {
   "cell_type": "code",
   "execution_count": null,
   "id": "2819c311",
   "metadata": {},
   "outputs": [],
   "source": [
    "nltk.download('stopwords')"
   ]
  },
  {
   "cell_type": "code",
   "execution_count": null,
   "id": "65ace9a4",
   "metadata": {},
   "outputs": [],
   "source": [
    "len(stopwords.words('russian'))"
   ]
  },
  {
   "cell_type": "code",
   "execution_count": null,
   "id": "bef86067",
   "metadata": {},
   "outputs": [],
   "source": [
    "pd.Series(list(all_words)).value_counts()"
   ]
  },
  {
   "cell_type": "code",
   "execution_count": null,
   "id": "c96d744f",
   "metadata": {},
   "outputs": [],
   "source": [
    "words_series = pd.Series(list(all_words))\n",
    "words_series[~words_series.isin(\n",
    "    stopwords.words('russian'))].value_counts().head(10)"
   ]
  },
  {
   "cell_type": "code",
   "execution_count": null,
   "id": "7594ee37",
   "metadata": {},
   "outputs": [],
   "source": [
    "poll_data['intro'].apply(lambda s: s.strip().split()).values"
   ]
  },
  {
   "cell_type": "code",
   "execution_count": null,
   "id": "5bcaced1",
   "metadata": {},
   "outputs": [],
   "source": [
    "np.concatenate()"
   ]
  }
 ],
 "metadata": {
  "kernelspec": {
   "display_name": "Python 3",
   "language": "python",
   "name": "python3"
  },
  "language_info": {
   "codemirror_mode": {
    "name": "ipython",
    "version": 3
   },
   "file_extension": ".py",
   "mimetype": "text/x-python",
   "name": "python",
   "nbconvert_exporter": "python",
   "pygments_lexer": "ipython3",
   "version": "3.9.5"
  }
 },
 "nbformat": 4,
 "nbformat_minor": 5
}
